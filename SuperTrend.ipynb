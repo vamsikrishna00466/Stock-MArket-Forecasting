{
  "nbformat": 4,
  "nbformat_minor": 0,
  "metadata": {
    "colab": {
      "name": "SuperTrend.ipynb",
      "provenance": [],
      "collapsed_sections": [],
      "authorship_tag": "ABX9TyPbijQ+3WZjoSnQwk/L0RgT",
      "include_colab_link": true
    },
    "kernelspec": {
      "name": "python3",
      "display_name": "Python 3"
    },
    "language_info": {
      "name": "python"
    }
  },
  "cells": [
    {
      "cell_type": "markdown",
      "metadata": {
        "id": "view-in-github",
        "colab_type": "text"
      },
      "source": [
        "<a href=\"https://colab.research.google.com/github/vamsikrishna00466/Stock-MArket-Forecasting/blob/master/SuperTrend.ipynb\" target=\"_parent\"><img src=\"https://colab.research.google.com/assets/colab-badge.svg\" alt=\"Open In Colab\"/></a>"
      ]
    },
    {
      "cell_type": "code",
      "metadata": {
        "id": "KqD-tzJby3k_"
      },
      "source": [
        "def TrueRange(data):\n",
        "    data = data.copy()\n",
        "    data[\"TR\"] = np.nan\n",
        "    for i in range(1,len(data)):\n",
        "        h = data.loc[i,\"high\"]\n",
        "        l = data.loc[i,\"low\"]\n",
        "        pc = data.loc[i-1,\"close\"]    \n",
        "        x = h-l\n",
        "        y = abs(h-pc)\n",
        "        z = abs(l-pc)\n",
        "        TR = max(x,y,z)\n",
        "        data.loc[i,\"TR\"] = TR\n",
        "    return data\n",
        "\n",
        "def average_true_range(data, period=10, drop_tr=True, smoothing=\"SMA\"):\n",
        "    data = data.copy()\n",
        "    if smoothing == \"RMA\":\n",
        "        data['atr_' + str(period) + '_' + str(smoothing)] = data['TR'].ewm(com=period - 1,\n",
        "                                                                           min_periods=period).mean()\n",
        "    elif smoothing == \"SMA\":\n",
        "        data['atr_' + str(period) + '_' + str(smoothing)] = data['TR'].rolling(window=period).mean()\n",
        "    elif smoothing == \"EMA\":\n",
        "        data['atr_' + str(period) + '_' + str(smoothing)] = data['TR'].ewm(span=period, adjust=False).mean()\n",
        "    if drop_tr:\n",
        "        data.drop(['TR'], inplace=True, axis=1)\n",
        "    data = data.round(decimals=2)\n",
        "    return data\n",
        "def SuperTrend(data):\n",
        "    ### Time frame changing\n",
        "    import time\n",
        "    start = time.time()\n",
        "    TR1 = TrueRange(data)\n",
        "    ATR_df = average_true_range(data = TR1, period=10, drop_tr=True, smoothing=\"SMA\")\n",
        "    f=2\n",
        "    n=11\n",
        "    df2 = ATR_df.copy()\n",
        "    #Calculation of SuperTrend\n",
        "    df2['Upper Basic']=(df2['high']+df2['low'])/2+(f*df2['atr_10_SMA'])\n",
        "    df2['Lower Basic']=(df2['high']+df2['low'])/2-(f*df2['atr_10_SMA'])\n",
        "    df2['Upper Band']=df2['Upper Basic']\n",
        "    df2['Lower Band']=df2['Lower Basic']\n",
        "    for i in range(n,len(df2)):\n",
        "        if df2['close'][i-1]<=df2['Upper Band'][i-1]:\n",
        "            df2['Upper Band'][i]=min(df2['Upper Basic'][i],df2['Upper Band'][i-1])\n",
        "        else:\n",
        "            df2['Upper Band'][i]=df2['Upper Basic'][i]    \n",
        "    for i in range(n,len(df2)):\n",
        "        if df2['close'][i-1]>=df2['Lower Band'][i-1]:\n",
        "            df2['Lower Band'][i]=max(df2['Lower Basic'][i],df2['Lower Band'][i-1])\n",
        "        else:\n",
        "            df2['Lower Band'][i]=df2['Lower Basic'][i]   \n",
        "            df2['SuperTrend']=np.nan\n",
        "    for i in df2['SuperTrend']:\n",
        "        if df2['close'][n-1]<=df2['Upper Band'][n-1]:\n",
        "            df2['SuperTrend'][n-1]=df2['Upper Band'][n-1]\n",
        "        elif df2['close'][n-1]>df2['Upper Band'][i]:\n",
        "            df2['SuperTrend'][n-1]=df2['Lower Band'][n-1]\n",
        "    for i in range(n,len(df2)):\n",
        "        if df2['SuperTrend'][i-1]==df2['Upper Band'][i-1] and df2['close'][i]<=df2['Upper Band'][i]:\n",
        "            df2['SuperTrend'][i]=df2['Upper Band'][i]\n",
        "        elif df2['SuperTrend'][i-1]==df2['Upper Band'][i-1] and df2['close'][i]>=df2['Upper Band'][i]:\n",
        "            df2['SuperTrend'][i]=df2['Lower Band'][i]\n",
        "        elif df2['SuperTrend'][i-1]==df2['Lower Band'][i-1] and df2['close'][i]>=df2['Lower Band'][i]:\n",
        "            df2['SuperTrend'][i]=df2['Lower Band'][i]\n",
        "        elif df2['SuperTrend'][i-1]==df2['Lower Band'][i-1] and df2['close'][i]<=df2['Lower Band'][i]:\n",
        "            df2['SuperTrend'][i]=df2['Upper Band'][i]\n",
        "    end = time.time()\n",
        "    print('Time taken for SuperTrend Calculation:',(end - start)/60,'minutes')\n",
        "    return df2"
      ],
      "execution_count": null,
      "outputs": []
    },
    {
      "cell_type": "code",
      "metadata": {
        "id": "M0OGAIbt1-G8"
      },
      "source": [
        "#donchan channel 50 candles period\n",
        "k = 50\n",
        "df2['upper_channel'] = np.nan\n",
        "df2['lower_channel'] = np.nan\n",
        "df2['middle_channel'] = np.nan\n",
        "\n",
        "df2['upper_channel'] = df2['high'].rolling(k).max().shift(k-50)\n",
        "df2['lower_channel'] = df2['low'].rolling(k).min().shift(k-50)\n",
        "df2['middle_channel'] = ((df2['upper_channel'] + df2['lower_channel'])/2)"
      ],
      "execution_count": null,
      "outputs": []
    },
    {
      "cell_type": "code",
      "metadata": {
        "id": "xYVFpgM6zOPT"
      },
      "source": [
        "\"\"\"\n",
        "Befor applying function please verify your OHLC names matching with above function names\n",
        "\"\"\"\n",
        "\n",
        "SuperTrend = SuperTrend(df)#in place of df use your data frame\n"
      ],
      "execution_count": null,
      "outputs": []
    }
  ]
}